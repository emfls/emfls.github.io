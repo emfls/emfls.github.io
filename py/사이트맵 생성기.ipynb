{
 "cells": [
  {
   "cell_type": "code",
   "execution_count": 2,
   "id": "736ad1d7",
   "metadata": {},
   "outputs": [
    {
     "name": "stdout",
     "output_type": "stream",
     "text": [
      "HTML 파일이 있는 폴더 경로를 입력하세요: C:\\Users\\USER\\Documents\\GitHub\\emfls.github.io\\kor\\report\\travel\n",
      "사이트의 기본 URL을 입력하세요 (예: http://example.com): https://emfls.github.io/kor/report/travel/\n",
      "sitemap.xml 파일이 생성되었습니다.\n"
     ]
    }
   ],
   "source": [
    "import os\n",
    "\n",
    "def find_html_files(folder_path):\n",
    "    html_files = []\n",
    "    for root, dirs, files in os.walk(folder_path):\n",
    "        for file in files:\n",
    "            if file.endswith('.html'):\n",
    "                full_path = os.path.join(root, file)\n",
    "                html_files.append(full_path)\n",
    "    return html_files\n",
    "\n",
    "def create_sitemap_xml(html_files, folder_path, base_url='http://example.com'):\n",
    "    sitemap_header = '<?xml version=\"1.0\" encoding=\"UTF-8\"?>\\n<urlset xmlns=\"http://www.sitemaps.org/schemas/sitemap/0.9\">\\n'\n",
    "    sitemap_footer = '</urlset>'\n",
    "    url_template = '  <url>\\n    <loc>{}</loc>\\n  </url>\\n'\n",
    "\n",
    "    sitemap_content = sitemap_header\n",
    "    for file_path in html_files:\n",
    "        # 폴더 경로를 기준으로 상대경로 추출 후 URL 생성\n",
    "        relative_path = file_path.replace('\\\\', '/').split(folder_path.replace('\\\\', '/'))[-1]\n",
    "        url = base_url.rstrip('/') + relative_path\n",
    "        sitemap_content += url_template.format(url)\n",
    "    sitemap_content += sitemap_footer\n",
    "\n",
    "    with open('sitemap.xml', 'w', encoding='utf-8') as f:\n",
    "        f.write(sitemap_content)\n",
    "\n",
    "    return 'sitemap.xml 파일이 생성되었습니다.'\n",
    "\n",
    "if __name__ == '__main__':\n",
    "    folder_path = input(\"HTML 파일이 있는 폴더 경로를 입력하세요: \").strip()\n",
    "    base_url = input(\"사이트의 기본 URL을 입력하세요 (예: http://example.com): \").strip()\n",
    "    html_files = find_html_files(folder_path)\n",
    "    if not html_files:\n",
    "        print(\"해당 폴더에 HTML 파일이 없습니다.\")\n",
    "    else:\n",
    "        result = create_sitemap_xml(html_files, folder_path, base_url)\n",
    "        print(result)\n"
   ]
  },
  {
   "cell_type": "code",
   "execution_count": null,
   "id": "82fc3679",
   "metadata": {},
   "outputs": [],
   "source": []
  }
 ],
 "metadata": {
  "kernelspec": {
   "display_name": "Python 3 (ipykernel)",
   "language": "python",
   "name": "python3"
  },
  "language_info": {
   "codemirror_mode": {
    "name": "ipython",
    "version": 3
   },
   "file_extension": ".py",
   "mimetype": "text/x-python",
   "name": "python",
   "nbconvert_exporter": "python",
   "pygments_lexer": "ipython3",
   "version": "3.9.6"
  }
 },
 "nbformat": 4,
 "nbformat_minor": 5
}
